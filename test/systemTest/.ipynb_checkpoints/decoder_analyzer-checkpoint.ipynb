{
 "cells": [
  {
   "cell_type": "code",
   "execution_count": 73,
   "metadata": {},
   "outputs": [],
   "source": [
    "import os\n",
    "fileName = \"sampleData\\encodedData2.dat\"\n",
    "fileNameDecode = \"sampleData\\decode2.dat\"\n",
    "fileNameRaw = \"sampleData\\sampleAcc2.dat\"\n",
    "if os.path.exists(fileNameDecode):\n",
    "  os.remove(fileNameDecode)\n",
    "fOut = open(fileNameDecode,\"wt\")\n",
    "byteCount = 0;\n",
    "if os.path.exists(fileName):\n",
    "    fl = open(fileName,\"r\")\n",
    "    for ln in fl:        \n",
    "        dataArray = ln.rsplit(' ')\n",
    "        dataArrayInt = []\n",
    "        for numeric_string in dataArray:\n",
    "            if numeric_string.isnumeric():\n",
    "                dataArrayInt.append(int(numeric_string))        \n",
    "        timeStamp = int.from_bytes(dataArrayInt[0:4],\"big\")\n",
    "        byteCount+=4\n",
    "        for i in range(4,len(dataArrayInt),3):\n",
    "            byteCount+=3\n",
    "            rleCnt = int.from_bytes(dataArrayInt[i:i+2],\"big\")\n",
    "            acc = dataArrayInt[i+2]\n",
    "            for j in range(rleCnt):\n",
    "                fOut.write(str(timeStamp)+\" \"+str(acc)+\"\\n\")\n",
    "                timeStamp +=1\n",
    "        \n",
    "    fl.close()\n",
    "    fOut.close()    "
   ]
  },
  {
   "cell_type": "code",
   "execution_count": 74,
   "metadata": {},
   "outputs": [
    {
     "name": "stdout",
     "output_type": "stream",
     "text": [
      "Encoded Data Capacity:1770 Bytes\n",
      "Raw Capacity:53315 Bytes\n",
      "Comperssion rate:96.68010878739567%\n",
      "Error rate:0.0%\n",
      "Decoded Line Number:10650 Lines\n",
      "Raw Line Number:10663 Lines\n"
     ]
    }
   ],
   "source": [
    "#check accuracy and compression rate\n",
    "fRaw = open(fileNameRaw,\"r\")\n",
    "fDec = open(fileNameDecode,\"r\")\n",
    "rawLnNumber = 0\n",
    "decLnNumber = 0\n",
    "errorLnNumber = 0\n",
    "rawCapacity = 0\n",
    "for ln in fRaw:\n",
    "    lnDec = fDec.readline()\n",
    "    if len(lnDec)>0 :\n",
    "        decLnNumber += 1\n",
    "        if ln != lnDec:\n",
    "            errorLnNumber += 1\n",
    "    rawCapacity += 5\n",
    "    rawLnNumber += 1\n",
    "    \n",
    "    \n",
    "fRaw.close()\n",
    "fDec.close()\n",
    "print(\"Encoded Data Capacity:\" + str(byteCount) + \" Bytes\")\n",
    "print(\"Raw Capacity:\" + str(rawCapacity) + \" Bytes\")\n",
    "print(\"Comperssion rate:\" + str((rawCapacity-byteCount)/rawCapacity*100) + \"%\")\n",
    "print(\"Error rate:\" + str(errorLnNumber/rawLnNumber*100) + \"%\")\n",
    "print(\"Decoded Line Number:\" + str(decLnNumber) + \" Lines\")\n",
    "print(\"Raw Line Number:\" + str(rawLnNumber) + \" Lines\")\n",
    "\n"
   ]
  },
  {
   "cell_type": "code",
   "execution_count": null,
   "metadata": {},
   "outputs": [],
   "source": []
  },
  {
   "cell_type": "code",
   "execution_count": null,
   "metadata": {},
   "outputs": [],
   "source": []
  }
 ],
 "metadata": {
  "kernelspec": {
   "display_name": "Python 3 (ipykernel)",
   "language": "python",
   "name": "python3"
  },
  "language_info": {
   "codemirror_mode": {
    "name": "ipython",
    "version": 3
   },
   "file_extension": ".py",
   "mimetype": "text/x-python",
   "name": "python",
   "nbconvert_exporter": "python",
   "pygments_lexer": "ipython3",
   "version": "3.7.6"
  }
 },
 "nbformat": 4,
 "nbformat_minor": 4
}
