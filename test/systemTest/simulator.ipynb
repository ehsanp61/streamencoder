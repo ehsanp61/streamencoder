{
 "cells": [
  {
   "cell_type": "code",
   "execution_count": 41,
   "metadata": {},
   "outputs": [],
   "source": [
    "import numpy as py\n",
    "import random as rnd\n",
    "import time\n",
    "import os\n",
    "#inputs\n",
    "timeSeed = [[20,60],[60,120],[120,240],[250,400]] #seconds\n",
    "distSeed = [[10,250],[5,600],[600,1600],[800,2500]] #meters\n",
    "MaxSpeed = 18 # m/s\n",
    "NumberofMoving = 250\n",
    "fileName = \"sampleAcc2.dat\"\n",
    "curTime = int(round(time.time(),0))\n",
    "if os.path.exists(fileName):\n",
    "  os.remove(fileName)\n",
    "fl = open(fileName,\"a\")"
   ]
  },
  {
   "cell_type": "code",
   "execution_count": 42,
   "metadata": {},
   "outputs": [
    {
     "name": "stdout",
     "output_type": "stream",
     "text": [
      "invalid acc:348\n",
      "invalid acc:418\n",
      "invalid acc:264\n",
      "invalid acc:427\n",
      "invalid acc:340\n",
      "invalid acc:365\n",
      "invalid acc:389\n",
      "Simulation Complete!!\n"
     ]
    }
   ],
   "source": [
    "for i in range(NumberofMoving):\n",
    "    ind = rnd.randrange(0,len(timeSeed)-1)\n",
    "    timeRand = rnd.randrange(timeSeed[ind][0],timeSeed[ind][1])\n",
    "    distRand = rnd.randrange(distSeed[ind][0],distSeed[ind][1])\n",
    "    acc = int(round(distRand / timeRand**2,3) * 1000)\n",
    "    if acc>254 or acc < 0:\n",
    "        print(\"invalid acc:\" + str(acc))\n",
    "        continue\n",
    "    for tm in range(timeRand):\n",
    "        curTime+=1\n",
    "        fl.write(str(curTime)+\" \"+str(acc)+\"\\n\")\n",
    "fl.close()\n",
    "print(\"Simulation Complete!!\")\n",
    "    \n",
    "    \n",
    "    \n",
    "    \n",
    "    \n"
   ]
  },
  {
   "cell_type": "code",
   "execution_count": null,
   "metadata": {},
   "outputs": [],
   "source": []
  }
 ],
 "metadata": {
  "kernelspec": {
   "display_name": "Python 3 (ipykernel)",
   "language": "python",
   "name": "python3"
  },
  "language_info": {
   "codemirror_mode": {
    "name": "ipython",
    "version": 3
   },
   "file_extension": ".py",
   "mimetype": "text/x-python",
   "name": "python",
   "nbconvert_exporter": "python",
   "pygments_lexer": "ipython3",
   "version": "3.7.6"
  }
 },
 "nbformat": 4,
 "nbformat_minor": 4
}
